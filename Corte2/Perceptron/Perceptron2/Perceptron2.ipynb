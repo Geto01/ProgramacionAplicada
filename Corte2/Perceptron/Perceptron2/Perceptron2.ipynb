{
  "nbformat": 4,
  "nbformat_minor": 0,
  "metadata": {
    "colab": {
      "provenance": [],
      "authorship_tag": "ABX9TyPxYmP4a8wEKcELEH29UuY7",
      "include_colab_link": true
    },
    "kernelspec": {
      "name": "python3",
      "display_name": "Python 3"
    },
    "language_info": {
      "name": "python"
    }
  },
  "cells": [
    {
      "cell_type": "markdown",
      "metadata": {
        "id": "view-in-github",
        "colab_type": "text"
      },
      "source": [
        "<a href=\"https://colab.research.google.com/github/Geto01/ProgramacionAplicada/blob/main/Corte2/Perceptron/Perceptron2/Perceptron2.ipynb\" target=\"_parent\"><img src=\"https://colab.research.google.com/assets/colab-badge.svg\" alt=\"Open In Colab\"/></a>"
      ]
    },
    {
      "cell_type": "code",
      "execution_count": 1,
      "metadata": {
        "colab": {
          "base_uri": "https://localhost:8080/"
        },
        "id": "iW1VZtNPLjCm",
        "outputId": "4a99d36c-88a4-4243-ad9e-d9a9f49c8281"
      },
      "outputs": [
        {
          "output_type": "stream",
          "name": "stdout",
          "text": [
            "Weight:  2.95, Cost:  27.08\n",
            "Weight:  1.52, Cost:  6.77\n",
            "Weight:  2.24, Cost:  1.69\n",
            "Weight:  1.88, Cost:  0.42\n",
            "Weight:  2.06, Cost:  0.11\n",
            "Weight:  1.97, Cost:  0.03\n",
            "Weight:  2.01, Cost:  0.01\n",
            "Weight:  1.99, Cost:  0.00\n",
            "Weight:  2.00, Cost:  0.00\n",
            "Weight:  2.00, Cost:  0.00\n",
            "Weight:  2.00, Cost:  0.00\n",
            "Weight:  2.00, Cost:  0.00\n",
            "Weight:  2.00, Cost:  0.00\n",
            "Weight:  2.00, Cost:  0.00\n",
            "Weight:  2.00, Cost:  0.00\n",
            "Weight:  2.00, Cost:  0.00\n",
            "Weight:  2.00, Cost:  0.00\n",
            "Weight:  2.00, Cost:  0.00\n",
            "Weight:  2.00, Cost:  0.00\n",
            "Weight:  2.00, Cost:  0.00\n",
            "Weight:  2.00, Cost:  0.00\n",
            "Weight:  2.00, Cost:  0.00\n",
            "Weight:  2.00, Cost:  0.00\n",
            "Weight:  2.00, Cost:  0.00\n",
            "Weight:  2.00, Cost:  0.00\n",
            "Weight:  2.00, Cost:  0.00\n",
            "Weight:  2.00, Cost:  0.00\n",
            "Weight:  2.00, Cost:  0.00\n",
            "Weight:  2.00, Cost:  0.00\n",
            "Weight:  2.00, Cost:  0.00\n"
          ]
        }
      ],
      "source": [
        "inputs = [1,2,3,4]\n",
        "targets = [2,4,6,8]\n",
        "\n",
        "w = 0.1\n",
        "epochs = 30\n",
        "learning_rate = 0.1\n",
        "\n",
        "def predict(i):\n",
        "  return w*i\n",
        "\n",
        "#Train the network\n",
        "\n",
        "for _ in range(epochs):\n",
        "  pred = [predict(i) for i in inputs]\n",
        "  errors = [(p-t)**2 for p, t in zip(pred,targets)]         #Cost will generate overflow\n",
        "  cost = sum(errors)/len(targets)\n",
        "  ###################################################################\n",
        "  #Cost using the error derivate\n",
        "  error_d = [2*(p-t) for p, t in zip(pred,targets)]\n",
        "  weight_d = [e*i for e, i in zip(error_d,inputs)]\n",
        "  w -= learning_rate*sum(weight_d)/len(weight_d)\n",
        "  ###################################################################\n",
        "  #print(f\"Targets: \", targets)\n",
        "  #print(f\"Predictions: \", pred)\n",
        "  #print(f\"Errors: \", errors)\n",
        "  print(f\"Weight: {w: .2f}, Cost: {cost: .2f}\")"
      ]
    },
    {
      "cell_type": "code",
      "source": [
        "#Test the network\n",
        "test_inputs = [5,6]\n",
        "test_targets = [10,12]\n",
        "pred = [predict(i) for i in test_inputs]\n",
        "for i, t, p in zip(test_inputs,test_targets, pred):\n",
        "  print(f\"Input: {i}, Target: {t}, Pred: {p: .4f}\")"
      ],
      "metadata": {
        "colab": {
          "base_uri": "https://localhost:8080/"
        },
        "id": "hp_i2SOnLsDR",
        "outputId": "eaa433a9-0415-46c3-de50-11ad0b3b8b58"
      },
      "execution_count": 2,
      "outputs": [
        {
          "output_type": "stream",
          "name": "stdout",
          "text": [
            "Input: 5, Target: 10, Pred:  10.0000\n",
            "Input: 6, Target: 12, Pred:  12.0000\n"
          ]
        }
      ]
    }
  ]
}